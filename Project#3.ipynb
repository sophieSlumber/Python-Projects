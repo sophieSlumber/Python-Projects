{
 "cells": [
  {
   "cell_type": "code",
   "execution_count": 1,
   "id": "b67f467d",
   "metadata": {},
   "outputs": [],
   "source": [
    "import pandas as pd"
   ]
  },
  {
   "cell_type": "code",
   "execution_count": 2,
   "id": "b2521c2f",
   "metadata": {},
   "outputs": [],
   "source": [
    "df = pd.read_pickle(\"Project-3_NYC_311_Calls.pkl\")"
   ]
  },
  {
   "cell_type": "code",
   "execution_count": 3,
   "id": "19fb59dc",
   "metadata": {},
   "outputs": [
    {
     "data": {
      "text/html": [
       "<div>\n",
       "<style scoped>\n",
       "    .dataframe tbody tr th:only-of-type {\n",
       "        vertical-align: middle;\n",
       "    }\n",
       "\n",
       "    .dataframe tbody tr th {\n",
       "        vertical-align: top;\n",
       "    }\n",
       "\n",
       "    .dataframe thead th {\n",
       "        text-align: right;\n",
       "    }\n",
       "</style>\n",
       "<table border=\"1\" class=\"dataframe\">\n",
       "  <thead>\n",
       "    <tr style=\"text-align: right;\">\n",
       "      <th></th>\n",
       "      <th>Unique Key</th>\n",
       "      <th>Created Date</th>\n",
       "      <th>Agency</th>\n",
       "      <th>Agency Name</th>\n",
       "      <th>Complaint Type</th>\n",
       "      <th>Descriptor</th>\n",
       "      <th>Location Type</th>\n",
       "      <th>Incident Zip</th>\n",
       "      <th>City</th>\n",
       "      <th>Resolution Description</th>\n",
       "      <th>Borough</th>\n",
       "      <th>Open Data Channel Type</th>\n",
       "    </tr>\n",
       "  </thead>\n",
       "  <tbody>\n",
       "    <tr>\n",
       "      <th>0</th>\n",
       "      <td>20184537</td>\n",
       "      <td>2011-04-06 00:00:00</td>\n",
       "      <td>HPD</td>\n",
       "      <td>Department of Housing Preservation and Develop...</td>\n",
       "      <td>HEATING</td>\n",
       "      <td>HEAT</td>\n",
       "      <td>RESIDENTIAL BUILDING</td>\n",
       "      <td>10002.0</td>\n",
       "      <td>NEW YORK</td>\n",
       "      <td>More than one complaint was received for this ...</td>\n",
       "      <td>MANHATTAN</td>\n",
       "      <td>UNKNOWN</td>\n",
       "    </tr>\n",
       "    <tr>\n",
       "      <th>1</th>\n",
       "      <td>20184538</td>\n",
       "      <td>2011-04-06 00:00:00</td>\n",
       "      <td>HPD</td>\n",
       "      <td>Department of Housing Preservation and Develop...</td>\n",
       "      <td>GENERAL CONSTRUCTION</td>\n",
       "      <td>WINDOWS</td>\n",
       "      <td>RESIDENTIAL BUILDING</td>\n",
       "      <td>11236.0</td>\n",
       "      <td>BROOKLYN</td>\n",
       "      <td>The Department of Housing Preservation and Dev...</td>\n",
       "      <td>BROOKLYN</td>\n",
       "      <td>UNKNOWN</td>\n",
       "    </tr>\n",
       "    <tr>\n",
       "      <th>2</th>\n",
       "      <td>20184539</td>\n",
       "      <td>2011-04-06 00:00:00</td>\n",
       "      <td>HPD</td>\n",
       "      <td>Department of Housing Preservation and Develop...</td>\n",
       "      <td>PAINT - PLASTER</td>\n",
       "      <td>WALLS</td>\n",
       "      <td>RESIDENTIAL BUILDING</td>\n",
       "      <td>10460.0</td>\n",
       "      <td>BRONX</td>\n",
       "      <td>The Department of Housing Preservation and Dev...</td>\n",
       "      <td>BRONX</td>\n",
       "      <td>UNKNOWN</td>\n",
       "    </tr>\n",
       "    <tr>\n",
       "      <th>3</th>\n",
       "      <td>54732265</td>\n",
       "      <td>2022-07-08 11:14:43</td>\n",
       "      <td>DSNY</td>\n",
       "      <td>Department of Sanitation</td>\n",
       "      <td>Dirty Condition</td>\n",
       "      <td>Trash</td>\n",
       "      <td>Sidewalk</td>\n",
       "      <td>10467.0</td>\n",
       "      <td>BRONX</td>\n",
       "      <td>The Department of Sanitation investigated this...</td>\n",
       "      <td>BRONX</td>\n",
       "      <td>PHONE</td>\n",
       "    </tr>\n",
       "    <tr>\n",
       "      <th>4</th>\n",
       "      <td>20184540</td>\n",
       "      <td>2011-04-06 00:00:00</td>\n",
       "      <td>HPD</td>\n",
       "      <td>Department of Housing Preservation and Develop...</td>\n",
       "      <td>NONCONST</td>\n",
       "      <td>VERMIN</td>\n",
       "      <td>RESIDENTIAL BUILDING</td>\n",
       "      <td>10460.0</td>\n",
       "      <td>BRONX</td>\n",
       "      <td>The Department of Housing Preservation and Dev...</td>\n",
       "      <td>BRONX</td>\n",
       "      <td>UNKNOWN</td>\n",
       "    </tr>\n",
       "    <tr>\n",
       "      <th>5</th>\n",
       "      <td>20184541</td>\n",
       "      <td>2011-04-06 00:00:00</td>\n",
       "      <td>HPD</td>\n",
       "      <td>Department of Housing Preservation and Develop...</td>\n",
       "      <td>HEATING</td>\n",
       "      <td>HEAT</td>\n",
       "      <td>RESIDENTIAL BUILDING</td>\n",
       "      <td>11207.0</td>\n",
       "      <td>BROOKLYN</td>\n",
       "      <td>The Department of Housing Preservation and Dev...</td>\n",
       "      <td>BROOKLYN</td>\n",
       "      <td>UNKNOWN</td>\n",
       "    </tr>\n",
       "    <tr>\n",
       "      <th>6</th>\n",
       "      <td>20184542</td>\n",
       "      <td>2011-04-06 00:00:00</td>\n",
       "      <td>HPD</td>\n",
       "      <td>Department of Housing Preservation and Develop...</td>\n",
       "      <td>PAINT - PLASTER</td>\n",
       "      <td>WALLS</td>\n",
       "      <td>RESIDENTIAL BUILDING</td>\n",
       "      <td>11221.0</td>\n",
       "      <td>BROOKLYN</td>\n",
       "      <td>The Department of Housing Preservation and Dev...</td>\n",
       "      <td>BROOKLYN</td>\n",
       "      <td>UNKNOWN</td>\n",
       "    </tr>\n",
       "    <tr>\n",
       "      <th>7</th>\n",
       "      <td>20184543</td>\n",
       "      <td>2011-04-06 00:00:00</td>\n",
       "      <td>HPD</td>\n",
       "      <td>Department of Housing Preservation and Develop...</td>\n",
       "      <td>PAINT - PLASTER</td>\n",
       "      <td>WALLS</td>\n",
       "      <td>RESIDENTIAL BUILDING</td>\n",
       "      <td>11221.0</td>\n",
       "      <td>BROOKLYN</td>\n",
       "      <td>The Department of Housing Preservation and Dev...</td>\n",
       "      <td>BROOKLYN</td>\n",
       "      <td>UNKNOWN</td>\n",
       "    </tr>\n",
       "    <tr>\n",
       "      <th>8</th>\n",
       "      <td>20184544</td>\n",
       "      <td>2011-04-06 00:00:00</td>\n",
       "      <td>HPD</td>\n",
       "      <td>Department of Housing Preservation and Develop...</td>\n",
       "      <td>PAINT - PLASTER</td>\n",
       "      <td>CEILING</td>\n",
       "      <td>RESIDENTIAL BUILDING</td>\n",
       "      <td>11233.0</td>\n",
       "      <td>BROOKLYN</td>\n",
       "      <td>The Department of Housing Preservation and Dev...</td>\n",
       "      <td>BROOKLYN</td>\n",
       "      <td>UNKNOWN</td>\n",
       "    </tr>\n",
       "    <tr>\n",
       "      <th>9</th>\n",
       "      <td>20184545</td>\n",
       "      <td>2011-04-06 00:00:00</td>\n",
       "      <td>HPD</td>\n",
       "      <td>Department of Housing Preservation and Develop...</td>\n",
       "      <td>NONCONST</td>\n",
       "      <td>CARBON MONOXIDE</td>\n",
       "      <td>RESIDENTIAL BUILDING</td>\n",
       "      <td>11213.0</td>\n",
       "      <td>BROOKLYN</td>\n",
       "      <td>The Department of Housing Preservation and Dev...</td>\n",
       "      <td>BROOKLYN</td>\n",
       "      <td>UNKNOWN</td>\n",
       "    </tr>\n",
       "  </tbody>\n",
       "</table>\n",
       "</div>"
      ],
      "text/plain": [
       "   Unique Key        Created Date Agency  \\\n",
       "0    20184537 2011-04-06 00:00:00    HPD   \n",
       "1    20184538 2011-04-06 00:00:00    HPD   \n",
       "2    20184539 2011-04-06 00:00:00    HPD   \n",
       "3    54732265 2022-07-08 11:14:43   DSNY   \n",
       "4    20184540 2011-04-06 00:00:00    HPD   \n",
       "5    20184541 2011-04-06 00:00:00    HPD   \n",
       "6    20184542 2011-04-06 00:00:00    HPD   \n",
       "7    20184543 2011-04-06 00:00:00    HPD   \n",
       "8    20184544 2011-04-06 00:00:00    HPD   \n",
       "9    20184545 2011-04-06 00:00:00    HPD   \n",
       "\n",
       "                                         Agency Name        Complaint Type  \\\n",
       "0  Department of Housing Preservation and Develop...               HEATING   \n",
       "1  Department of Housing Preservation and Develop...  GENERAL CONSTRUCTION   \n",
       "2  Department of Housing Preservation and Develop...       PAINT - PLASTER   \n",
       "3                           Department of Sanitation       Dirty Condition   \n",
       "4  Department of Housing Preservation and Develop...              NONCONST   \n",
       "5  Department of Housing Preservation and Develop...               HEATING   \n",
       "6  Department of Housing Preservation and Develop...       PAINT - PLASTER   \n",
       "7  Department of Housing Preservation and Develop...       PAINT - PLASTER   \n",
       "8  Department of Housing Preservation and Develop...       PAINT - PLASTER   \n",
       "9  Department of Housing Preservation and Develop...              NONCONST   \n",
       "\n",
       "        Descriptor         Location Type Incident Zip      City  \\\n",
       "0             HEAT  RESIDENTIAL BUILDING      10002.0  NEW YORK   \n",
       "1          WINDOWS  RESIDENTIAL BUILDING      11236.0  BROOKLYN   \n",
       "2            WALLS  RESIDENTIAL BUILDING      10460.0     BRONX   \n",
       "3            Trash              Sidewalk      10467.0     BRONX   \n",
       "4           VERMIN  RESIDENTIAL BUILDING      10460.0     BRONX   \n",
       "5             HEAT  RESIDENTIAL BUILDING      11207.0  BROOKLYN   \n",
       "6            WALLS  RESIDENTIAL BUILDING      11221.0  BROOKLYN   \n",
       "7            WALLS  RESIDENTIAL BUILDING      11221.0  BROOKLYN   \n",
       "8          CEILING  RESIDENTIAL BUILDING      11233.0  BROOKLYN   \n",
       "9  CARBON MONOXIDE  RESIDENTIAL BUILDING      11213.0  BROOKLYN   \n",
       "\n",
       "                              Resolution Description    Borough  \\\n",
       "0  More than one complaint was received for this ...  MANHATTAN   \n",
       "1  The Department of Housing Preservation and Dev...   BROOKLYN   \n",
       "2  The Department of Housing Preservation and Dev...      BRONX   \n",
       "3  The Department of Sanitation investigated this...      BRONX   \n",
       "4  The Department of Housing Preservation and Dev...      BRONX   \n",
       "5  The Department of Housing Preservation and Dev...   BROOKLYN   \n",
       "6  The Department of Housing Preservation and Dev...   BROOKLYN   \n",
       "7  The Department of Housing Preservation and Dev...   BROOKLYN   \n",
       "8  The Department of Housing Preservation and Dev...   BROOKLYN   \n",
       "9  The Department of Housing Preservation and Dev...   BROOKLYN   \n",
       "\n",
       "  Open Data Channel Type  \n",
       "0                UNKNOWN  \n",
       "1                UNKNOWN  \n",
       "2                UNKNOWN  \n",
       "3                  PHONE  \n",
       "4                UNKNOWN  \n",
       "5                UNKNOWN  \n",
       "6                UNKNOWN  \n",
       "7                UNKNOWN  \n",
       "8                UNKNOWN  \n",
       "9                UNKNOWN  "
      ]
     },
     "execution_count": 3,
     "metadata": {},
     "output_type": "execute_result"
    }
   ],
   "source": [
    "df.head(10)"
   ]
  },
  {
   "cell_type": "code",
   "execution_count": 4,
   "id": "06b01beb",
   "metadata": {},
   "outputs": [],
   "source": [
    "# We make the index as a proper DatetimeIndex, and then delete the Created Date column\n",
    "\n",
    "df = df.set_index(pd.DatetimeIndex(df['Created Date']))\n",
    "del df['Created Date']"
   ]
  },
  {
   "cell_type": "code",
   "execution_count": 5,
   "id": "e527539b",
   "metadata": {},
   "outputs": [
    {
     "data": {
      "text/html": [
       "<div>\n",
       "<style scoped>\n",
       "    .dataframe tbody tr th:only-of-type {\n",
       "        vertical-align: middle;\n",
       "    }\n",
       "\n",
       "    .dataframe tbody tr th {\n",
       "        vertical-align: top;\n",
       "    }\n",
       "\n",
       "    .dataframe thead th {\n",
       "        text-align: right;\n",
       "    }\n",
       "</style>\n",
       "<table border=\"1\" class=\"dataframe\">\n",
       "  <thead>\n",
       "    <tr style=\"text-align: right;\">\n",
       "      <th></th>\n",
       "      <th>Unique Key</th>\n",
       "      <th>Agency</th>\n",
       "      <th>Agency Name</th>\n",
       "      <th>Complaint Type</th>\n",
       "      <th>Descriptor</th>\n",
       "      <th>Location Type</th>\n",
       "      <th>Incident Zip</th>\n",
       "      <th>City</th>\n",
       "      <th>Resolution Description</th>\n",
       "      <th>Borough</th>\n",
       "      <th>Open Data Channel Type</th>\n",
       "    </tr>\n",
       "    <tr>\n",
       "      <th>Created Date</th>\n",
       "      <th></th>\n",
       "      <th></th>\n",
       "      <th></th>\n",
       "      <th></th>\n",
       "      <th></th>\n",
       "      <th></th>\n",
       "      <th></th>\n",
       "      <th></th>\n",
       "      <th></th>\n",
       "      <th></th>\n",
       "      <th></th>\n",
       "    </tr>\n",
       "  </thead>\n",
       "  <tbody>\n",
       "    <tr>\n",
       "      <th>2021-03-30 10:58:35</th>\n",
       "      <td>50147611</td>\n",
       "      <td>HPD</td>\n",
       "      <td>Department of Housing Preservation and Develop...</td>\n",
       "      <td>APPLIANCE</td>\n",
       "      <td>REFRIGERATOR</td>\n",
       "      <td>RESIDENTIAL BUILDING</td>\n",
       "      <td>11238.0</td>\n",
       "      <td>BROOKLYN</td>\n",
       "      <td>The Department of Housing Preservation and Dev...</td>\n",
       "      <td>BROOKLYN</td>\n",
       "      <td>PHONE</td>\n",
       "    </tr>\n",
       "    <tr>\n",
       "      <th>2023-01-23 13:53:17</th>\n",
       "      <td>56601109</td>\n",
       "      <td>HPD</td>\n",
       "      <td>Department of Housing Preservation and Develop...</td>\n",
       "      <td>UNSANITARY CONDITION</td>\n",
       "      <td>GARBAGE/RECYCLING STORAGE</td>\n",
       "      <td>RESIDENTIAL BUILDING</td>\n",
       "      <td>10457.0</td>\n",
       "      <td>BRONX</td>\n",
       "      <td>The Department of Housing Preservation and Dev...</td>\n",
       "      <td>BRONX</td>\n",
       "      <td>ONLINE</td>\n",
       "    </tr>\n",
       "    <tr>\n",
       "      <th>2014-01-02 14:50:00</th>\n",
       "      <td>27035942</td>\n",
       "      <td>DSNY</td>\n",
       "      <td>Department of Sanitation</td>\n",
       "      <td>Literature Request</td>\n",
       "      <td>GREEN MIXED PAPER DECALS</td>\n",
       "      <td>Other</td>\n",
       "      <td>10016</td>\n",
       "      <td>NEW YORK</td>\n",
       "      <td>The Department of Sanitation mailed the litera...</td>\n",
       "      <td>MANHATTAN</td>\n",
       "      <td>ONLINE</td>\n",
       "    </tr>\n",
       "    <tr>\n",
       "      <th>2019-02-23 15:08:00</th>\n",
       "      <td>41772016</td>\n",
       "      <td>DSNY</td>\n",
       "      <td>Department of Sanitation</td>\n",
       "      <td>Request Large Bulky Item Collection</td>\n",
       "      <td>Request Large Bulky Item Collection</td>\n",
       "      <td>Sidewalk</td>\n",
       "      <td>11222.0</td>\n",
       "      <td>BROOKLYN</td>\n",
       "      <td>NaN</td>\n",
       "      <td>BROOKLYN</td>\n",
       "      <td>PHONE</td>\n",
       "    </tr>\n",
       "    <tr>\n",
       "      <th>2017-11-11 11:52:20</th>\n",
       "      <td>37675511</td>\n",
       "      <td>HPD</td>\n",
       "      <td>Department of Housing Preservation and Develop...</td>\n",
       "      <td>HEAT/HOT WATER</td>\n",
       "      <td>ENTIRE BUILDING</td>\n",
       "      <td>RESIDENTIAL BUILDING</td>\n",
       "      <td>11226.0</td>\n",
       "      <td>BROOKLYN</td>\n",
       "      <td>The complaint you filed is a duplicate of a co...</td>\n",
       "      <td>BROOKLYN</td>\n",
       "      <td>PHONE</td>\n",
       "    </tr>\n",
       "    <tr>\n",
       "      <th>2010-05-26 19:35:46</th>\n",
       "      <td>16736137</td>\n",
       "      <td>DOHMH</td>\n",
       "      <td>Department of Health and Mental Hygiene</td>\n",
       "      <td>Calorie Labeling</td>\n",
       "      <td>Failure to Post Calorie Information</td>\n",
       "      <td>Restaurant/Bar/Deli/Bakery</td>\n",
       "      <td>11222</td>\n",
       "      <td>BROOKLYN</td>\n",
       "      <td>The Department of Health and Mental Hygiene ha...</td>\n",
       "      <td>BROOKLYN</td>\n",
       "      <td>PHONE</td>\n",
       "    </tr>\n",
       "    <tr>\n",
       "      <th>2015-08-03 18:46:34</th>\n",
       "      <td>31226557</td>\n",
       "      <td>DHS</td>\n",
       "      <td>Operations Unit - Department of Homeless Services</td>\n",
       "      <td>Homeless Person Assistance</td>\n",
       "      <td>No Status Call</td>\n",
       "      <td>NaN</td>\n",
       "      <td>10017</td>\n",
       "      <td>NEW YORK</td>\n",
       "      <td>Your request was submitted to the Department o...</td>\n",
       "      <td>MANHATTAN</td>\n",
       "      <td>MOBILE</td>\n",
       "    </tr>\n",
       "    <tr>\n",
       "      <th>2014-12-01 00:00:00</th>\n",
       "      <td>29410501</td>\n",
       "      <td>HPD</td>\n",
       "      <td>Department of Housing Preservation and Develop...</td>\n",
       "      <td>PAINT/PLASTER</td>\n",
       "      <td>CEILING</td>\n",
       "      <td>RESIDENTIAL BUILDING</td>\n",
       "      <td>11416.0</td>\n",
       "      <td>Ozone Park</td>\n",
       "      <td>The Department of Housing Preservation and Dev...</td>\n",
       "      <td>QUEENS</td>\n",
       "      <td>PHONE</td>\n",
       "    </tr>\n",
       "    <tr>\n",
       "      <th>2017-07-03 10:05:22</th>\n",
       "      <td>36608683</td>\n",
       "      <td>NYPD</td>\n",
       "      <td>New York City Police Department</td>\n",
       "      <td>Noise - Vehicle</td>\n",
       "      <td>Car/Truck Horn</td>\n",
       "      <td>Street/Sidewalk</td>\n",
       "      <td>10475.0</td>\n",
       "      <td>BRONX</td>\n",
       "      <td>The Police Department responded to the complai...</td>\n",
       "      <td>BRONX</td>\n",
       "      <td>PHONE</td>\n",
       "    </tr>\n",
       "    <tr>\n",
       "      <th>2018-02-14 11:30:18</th>\n",
       "      <td>38468119</td>\n",
       "      <td>HPD</td>\n",
       "      <td>Department of Housing Preservation and Develop...</td>\n",
       "      <td>HPD Literature Request</td>\n",
       "      <td>The ABCs of Housing</td>\n",
       "      <td>NaN</td>\n",
       "      <td>NaN</td>\n",
       "      <td>NaN</td>\n",
       "      <td>The literature will be emailed within 24 hours...</td>\n",
       "      <td>Unspecified</td>\n",
       "      <td>PHONE</td>\n",
       "    </tr>\n",
       "  </tbody>\n",
       "</table>\n",
       "</div>"
      ],
      "text/plain": [
       "                     Unique Key Agency  \\\n",
       "Created Date                             \n",
       "2021-03-30 10:58:35    50147611    HPD   \n",
       "2023-01-23 13:53:17    56601109    HPD   \n",
       "2014-01-02 14:50:00    27035942   DSNY   \n",
       "2019-02-23 15:08:00    41772016   DSNY   \n",
       "2017-11-11 11:52:20    37675511    HPD   \n",
       "2010-05-26 19:35:46    16736137  DOHMH   \n",
       "2015-08-03 18:46:34    31226557    DHS   \n",
       "2014-12-01 00:00:00    29410501    HPD   \n",
       "2017-07-03 10:05:22    36608683   NYPD   \n",
       "2018-02-14 11:30:18    38468119    HPD   \n",
       "\n",
       "                                                           Agency Name  \\\n",
       "Created Date                                                             \n",
       "2021-03-30 10:58:35  Department of Housing Preservation and Develop...   \n",
       "2023-01-23 13:53:17  Department of Housing Preservation and Develop...   \n",
       "2014-01-02 14:50:00                           Department of Sanitation   \n",
       "2019-02-23 15:08:00                           Department of Sanitation   \n",
       "2017-11-11 11:52:20  Department of Housing Preservation and Develop...   \n",
       "2010-05-26 19:35:46            Department of Health and Mental Hygiene   \n",
       "2015-08-03 18:46:34  Operations Unit - Department of Homeless Services   \n",
       "2014-12-01 00:00:00  Department of Housing Preservation and Develop...   \n",
       "2017-07-03 10:05:22                    New York City Police Department   \n",
       "2018-02-14 11:30:18  Department of Housing Preservation and Develop...   \n",
       "\n",
       "                                          Complaint Type  \\\n",
       "Created Date                                               \n",
       "2021-03-30 10:58:35                            APPLIANCE   \n",
       "2023-01-23 13:53:17                 UNSANITARY CONDITION   \n",
       "2014-01-02 14:50:00                   Literature Request   \n",
       "2019-02-23 15:08:00  Request Large Bulky Item Collection   \n",
       "2017-11-11 11:52:20                       HEAT/HOT WATER   \n",
       "2010-05-26 19:35:46                     Calorie Labeling   \n",
       "2015-08-03 18:46:34           Homeless Person Assistance   \n",
       "2014-12-01 00:00:00                        PAINT/PLASTER   \n",
       "2017-07-03 10:05:22                      Noise - Vehicle   \n",
       "2018-02-14 11:30:18               HPD Literature Request   \n",
       "\n",
       "                                              Descriptor  \\\n",
       "Created Date                                               \n",
       "2021-03-30 10:58:35                         REFRIGERATOR   \n",
       "2023-01-23 13:53:17            GARBAGE/RECYCLING STORAGE   \n",
       "2014-01-02 14:50:00             GREEN MIXED PAPER DECALS   \n",
       "2019-02-23 15:08:00  Request Large Bulky Item Collection   \n",
       "2017-11-11 11:52:20                      ENTIRE BUILDING   \n",
       "2010-05-26 19:35:46  Failure to Post Calorie Information   \n",
       "2015-08-03 18:46:34                       No Status Call   \n",
       "2014-12-01 00:00:00                              CEILING   \n",
       "2017-07-03 10:05:22                       Car/Truck Horn   \n",
       "2018-02-14 11:30:18                  The ABCs of Housing   \n",
       "\n",
       "                                  Location Type Incident Zip        City  \\\n",
       "Created Date                                                               \n",
       "2021-03-30 10:58:35        RESIDENTIAL BUILDING      11238.0    BROOKLYN   \n",
       "2023-01-23 13:53:17        RESIDENTIAL BUILDING      10457.0       BRONX   \n",
       "2014-01-02 14:50:00                       Other        10016    NEW YORK   \n",
       "2019-02-23 15:08:00                    Sidewalk      11222.0    BROOKLYN   \n",
       "2017-11-11 11:52:20        RESIDENTIAL BUILDING      11226.0    BROOKLYN   \n",
       "2010-05-26 19:35:46  Restaurant/Bar/Deli/Bakery        11222    BROOKLYN   \n",
       "2015-08-03 18:46:34                         NaN        10017    NEW YORK   \n",
       "2014-12-01 00:00:00        RESIDENTIAL BUILDING      11416.0  Ozone Park   \n",
       "2017-07-03 10:05:22             Street/Sidewalk      10475.0       BRONX   \n",
       "2018-02-14 11:30:18                         NaN          NaN         NaN   \n",
       "\n",
       "                                                Resolution Description  \\\n",
       "Created Date                                                             \n",
       "2021-03-30 10:58:35  The Department of Housing Preservation and Dev...   \n",
       "2023-01-23 13:53:17  The Department of Housing Preservation and Dev...   \n",
       "2014-01-02 14:50:00  The Department of Sanitation mailed the litera...   \n",
       "2019-02-23 15:08:00                                                NaN   \n",
       "2017-11-11 11:52:20  The complaint you filed is a duplicate of a co...   \n",
       "2010-05-26 19:35:46  The Department of Health and Mental Hygiene ha...   \n",
       "2015-08-03 18:46:34  Your request was submitted to the Department o...   \n",
       "2014-12-01 00:00:00  The Department of Housing Preservation and Dev...   \n",
       "2017-07-03 10:05:22  The Police Department responded to the complai...   \n",
       "2018-02-14 11:30:18  The literature will be emailed within 24 hours...   \n",
       "\n",
       "                         Borough Open Data Channel Type  \n",
       "Created Date                                             \n",
       "2021-03-30 10:58:35     BROOKLYN                  PHONE  \n",
       "2023-01-23 13:53:17        BRONX                 ONLINE  \n",
       "2014-01-02 14:50:00    MANHATTAN                 ONLINE  \n",
       "2019-02-23 15:08:00     BROOKLYN                  PHONE  \n",
       "2017-11-11 11:52:20     BROOKLYN                  PHONE  \n",
       "2010-05-26 19:35:46     BROOKLYN                  PHONE  \n",
       "2015-08-03 18:46:34    MANHATTAN                 MOBILE  \n",
       "2014-12-01 00:00:00       QUEENS                  PHONE  \n",
       "2017-07-03 10:05:22        BRONX                  PHONE  \n",
       "2018-02-14 11:30:18  Unspecified                  PHONE  "
      ]
     },
     "execution_count": 5,
     "metadata": {},
     "output_type": "execute_result"
    }
   ],
   "source": [
    "df.sample(10)"
   ]
  },
  {
   "cell_type": "code",
   "execution_count": 6,
   "id": "0e105185",
   "metadata": {},
   "outputs": [
    {
     "name": "stdout",
     "output_type": "stream",
     "text": [
      "<class 'pandas.core.frame.DataFrame'>\n",
      "DatetimeIndex: 33780977 entries, 2011-04-06 00:00:00 to 2011-04-06 00:00:00\n",
      "Data columns (total 11 columns):\n",
      " #   Column                  Dtype \n",
      "---  ------                  ----- \n",
      " 0   Unique Key              int64 \n",
      " 1   Agency                  object\n",
      " 2   Agency Name             object\n",
      " 3   Complaint Type          object\n",
      " 4   Descriptor              object\n",
      " 5   Location Type           object\n",
      " 6   Incident Zip            object\n",
      " 7   City                    object\n",
      " 8   Resolution Description  object\n",
      " 9   Borough                 object\n",
      " 10  Open Data Channel Type  object\n",
      "dtypes: int64(1), object(10)\n",
      "memory usage: 3.0+ GB\n"
     ]
    }
   ],
   "source": [
    "df.info()"
   ]
  },
  {
   "cell_type": "code",
   "execution_count": 7,
   "id": "69ce260e",
   "metadata": {},
   "outputs": [
    {
     "data": {
      "text/plain": [
       "(33780977, 11)"
      ]
     },
     "execution_count": 7,
     "metadata": {},
     "output_type": "execute_result"
    }
   ],
   "source": [
    "df.shape"
   ]
  },
  {
   "cell_type": "markdown",
   "id": "ee870ec4",
   "metadata": {},
   "source": [
    "## Questions"
   ]
  },
  {
   "cell_type": "markdown",
   "id": "0c17012f",
   "metadata": {},
   "source": [
    "1. What is the average number of daily complaints received in 2022?"
   ]
  },
  {
   "cell_type": "code",
   "execution_count": 8,
   "id": "8df2edfc",
   "metadata": {},
   "outputs": [],
   "source": [
    "df_daily = df['Unique Key'].resample(rule=\"D\").count()"
   ]
  },
  {
   "cell_type": "code",
   "execution_count": 9,
   "id": "d73a7811",
   "metadata": {},
   "outputs": [
    {
     "data": {
      "text/plain": [
       "Created Date\n",
       "2020-09-11    10037\n",
       "2020-10-06     9071\n",
       "2010-05-31     3157\n",
       "2017-03-01     6143\n",
       "2015-10-27     7383\n",
       "2015-12-08     6719\n",
       "2022-10-08     7520\n",
       "2023-01-10     8548\n",
       "2016-07-01     6426\n",
       "2023-06-09     8014\n",
       "Name: Unique Key, dtype: int64"
      ]
     },
     "execution_count": 9,
     "metadata": {},
     "output_type": "execute_result"
    }
   ],
   "source": [
    "df_daily.sample(10)"
   ]
  },
  {
   "cell_type": "code",
   "execution_count": 11,
   "id": "1cfb2035",
   "metadata": {},
   "outputs": [],
   "source": [
    "df_daily_2022 = df_daily['2022']"
   ]
  },
  {
   "cell_type": "code",
   "execution_count": 12,
   "id": "2f855957",
   "metadata": {},
   "outputs": [
    {
     "data": {
      "text/plain": [
       "Created Date\n",
       "2022-06-03     9440\n",
       "2022-04-05     8349\n",
       "2022-11-29     9487\n",
       "2022-11-08     7782\n",
       "2022-01-12    10402\n",
       "Name: Unique Key, dtype: int64"
      ]
     },
     "execution_count": 12,
     "metadata": {},
     "output_type": "execute_result"
    }
   ],
   "source": [
    "df_daily_2022.sample(5)"
   ]
  },
  {
   "cell_type": "code",
   "execution_count": 13,
   "id": "c8bf2422",
   "metadata": {},
   "outputs": [
    {
     "data": {
      "text/plain": [
       "8684.320547945206"
      ]
     },
     "execution_count": 13,
     "metadata": {},
     "output_type": "execute_result"
    }
   ],
   "source": [
    "df_daily_2022.mean()"
   ]
  },
  {
   "cell_type": "markdown",
   "id": "6e1de269",
   "metadata": {},
   "source": [
    "2.What is the average number of daily complaints received in 2022?"
   ]
  },
  {
   "cell_type": "code",
   "execution_count": 14,
   "id": "b3886ace",
   "metadata": {},
   "outputs": [
    {
     "data": {
      "text/plain": [
       "Timestamp('2020-08-04 00:00:00')"
      ]
     },
     "execution_count": 14,
     "metadata": {},
     "output_type": "execute_result"
    }
   ],
   "source": [
    "df_daily.idxmax()"
   ]
  },
  {
   "cell_type": "code",
   "execution_count": 15,
   "id": "afaef4e7",
   "metadata": {},
   "outputs": [
    {
     "data": {
      "text/plain": [
       "24415"
      ]
     },
     "execution_count": 15,
     "metadata": {},
     "output_type": "execute_result"
    }
   ],
   "source": [
    "df_daily.max()"
   ]
  },
  {
   "cell_type": "markdown",
   "id": "2f6db6ac",
   "metadata": {},
   "source": [
    "3.On the date the maximum number of calls were received, what was the most important complaint type?"
   ]
  },
  {
   "cell_type": "code",
   "execution_count": 17,
   "id": "001a8659",
   "metadata": {},
   "outputs": [],
   "source": [
    "df_2020_08_04 = df.loc['2020-08-04']"
   ]
  },
  {
   "cell_type": "code",
   "execution_count": 19,
   "id": "6effc30b",
   "metadata": {},
   "outputs": [
    {
     "data": {
      "text/plain": [
       "Complaint Type\n",
       "Damaged Tree                           14863\n",
       "Noise - Residential                      982\n",
       "Request Large Bulky Item Collection      909\n",
       "Street Light Condition                   617\n",
       "Overgrown Tree/Branches                  609\n",
       "                                       ...  \n",
       "Bus Stop Shelter Placement                 1\n",
       "Unsanitary Pigeon Condition                1\n",
       "Public Payphone Complaint                  1\n",
       "For Hire Vehicle Report                    1\n",
       "Bridge Condition                           1\n",
       "Name: count, Length: 125, dtype: int64"
      ]
     },
     "execution_count": 19,
     "metadata": {},
     "output_type": "execute_result"
    }
   ],
   "source": [
    "df_2020_08_04['Complaint Type'].value_counts()"
   ]
  },
  {
   "cell_type": "markdown",
   "id": "6922da82",
   "metadata": {},
   "source": [
    "4.Quietest month: Group the data by months, and identify the month that historically has the fewest number of calls."
   ]
  },
  {
   "cell_type": "code",
   "execution_count": 28,
   "id": "8ae6885d",
   "metadata": {},
   "outputs": [],
   "source": [
    "df_monthly = df.groupby(df['Unique Key'].index.month).count()\n"
   ]
  },
  {
   "cell_type": "code",
   "execution_count": 35,
   "id": "0afc79fd",
   "metadata": {},
   "outputs": [
    {
     "data": {
      "text/html": [
       "<div>\n",
       "<style scoped>\n",
       "    .dataframe tbody tr th:only-of-type {\n",
       "        vertical-align: middle;\n",
       "    }\n",
       "\n",
       "    .dataframe tbody tr th {\n",
       "        vertical-align: top;\n",
       "    }\n",
       "\n",
       "    .dataframe thead th {\n",
       "        text-align: right;\n",
       "    }\n",
       "</style>\n",
       "<table border=\"1\" class=\"dataframe\">\n",
       "  <thead>\n",
       "    <tr style=\"text-align: right;\">\n",
       "      <th></th>\n",
       "      <th>Unique Key</th>\n",
       "      <th>Agency</th>\n",
       "      <th>Agency Name</th>\n",
       "      <th>Complaint Type</th>\n",
       "      <th>Descriptor</th>\n",
       "      <th>Location Type</th>\n",
       "      <th>Incident Zip</th>\n",
       "      <th>City</th>\n",
       "      <th>Resolution Description</th>\n",
       "      <th>Borough</th>\n",
       "      <th>Open Data Channel Type</th>\n",
       "    </tr>\n",
       "    <tr>\n",
       "      <th>Created Date</th>\n",
       "      <th></th>\n",
       "      <th></th>\n",
       "      <th></th>\n",
       "      <th></th>\n",
       "      <th></th>\n",
       "      <th></th>\n",
       "      <th></th>\n",
       "      <th></th>\n",
       "      <th></th>\n",
       "      <th></th>\n",
       "      <th></th>\n",
       "    </tr>\n",
       "  </thead>\n",
       "  <tbody>\n",
       "    <tr>\n",
       "      <th>11</th>\n",
       "      <td>2634749</td>\n",
       "      <td>2634749</td>\n",
       "      <td>2634749</td>\n",
       "      <td>2634749</td>\n",
       "      <td>2597039</td>\n",
       "      <td>2134663</td>\n",
       "      <td>2518090</td>\n",
       "      <td>2489438</td>\n",
       "      <td>2551950</td>\n",
       "      <td>2631500</td>\n",
       "      <td>2634749</td>\n",
       "    </tr>\n",
       "    <tr>\n",
       "      <th>4</th>\n",
       "      <td>2672760</td>\n",
       "      <td>2672760</td>\n",
       "      <td>2672760</td>\n",
       "      <td>2672760</td>\n",
       "      <td>2632458</td>\n",
       "      <td>2056600</td>\n",
       "      <td>2538816</td>\n",
       "      <td>2508078</td>\n",
       "      <td>2583141</td>\n",
       "      <td>2665909</td>\n",
       "      <td>2672760</td>\n",
       "    </tr>\n",
       "    <tr>\n",
       "      <th>1</th>\n",
       "      <td>2994507</td>\n",
       "      <td>2994507</td>\n",
       "      <td>2994507</td>\n",
       "      <td>2994507</td>\n",
       "      <td>2964146</td>\n",
       "      <td>2394414</td>\n",
       "      <td>2865750</td>\n",
       "      <td>2841227</td>\n",
       "      <td>2915698</td>\n",
       "      <td>2993302</td>\n",
       "      <td>2994507</td>\n",
       "    </tr>\n",
       "    <tr>\n",
       "      <th>2</th>\n",
       "      <td>2621845</td>\n",
       "      <td>2621845</td>\n",
       "      <td>2621845</td>\n",
       "      <td>2621845</td>\n",
       "      <td>2597904</td>\n",
       "      <td>2040378</td>\n",
       "      <td>2478307</td>\n",
       "      <td>2455622</td>\n",
       "      <td>2547754</td>\n",
       "      <td>2620396</td>\n",
       "      <td>2621845</td>\n",
       "    </tr>\n",
       "    <tr>\n",
       "      <th>3</th>\n",
       "      <td>2868044</td>\n",
       "      <td>2868044</td>\n",
       "      <td>2868044</td>\n",
       "      <td>2868044</td>\n",
       "      <td>2838712</td>\n",
       "      <td>2193203</td>\n",
       "      <td>2733449</td>\n",
       "      <td>2705118</td>\n",
       "      <td>2776299</td>\n",
       "      <td>2861108</td>\n",
       "      <td>2868044</td>\n",
       "    </tr>\n",
       "    <tr>\n",
       "      <th>9</th>\n",
       "      <td>2684271</td>\n",
       "      <td>2684271</td>\n",
       "      <td>2684271</td>\n",
       "      <td>2684271</td>\n",
       "      <td>2632913</td>\n",
       "      <td>2132519</td>\n",
       "      <td>2567983</td>\n",
       "      <td>2519843</td>\n",
       "      <td>2549325</td>\n",
       "      <td>2680180</td>\n",
       "      <td>2684271</td>\n",
       "    </tr>\n",
       "    <tr>\n",
       "      <th>7</th>\n",
       "      <td>3111026</td>\n",
       "      <td>3111026</td>\n",
       "      <td>3111026</td>\n",
       "      <td>3111026</td>\n",
       "      <td>3015435</td>\n",
       "      <td>2425720</td>\n",
       "      <td>2984318</td>\n",
       "      <td>2912668</td>\n",
       "      <td>2972083</td>\n",
       "      <td>3106441</td>\n",
       "      <td>3111026</td>\n",
       "    </tr>\n",
       "    <tr>\n",
       "      <th>12</th>\n",
       "      <td>2596986</td>\n",
       "      <td>2596986</td>\n",
       "      <td>2596986</td>\n",
       "      <td>2596986</td>\n",
       "      <td>2566758</td>\n",
       "      <td>2092610</td>\n",
       "      <td>2490107</td>\n",
       "      <td>2464794</td>\n",
       "      <td>2519183</td>\n",
       "      <td>2593991</td>\n",
       "      <td>2596986</td>\n",
       "    </tr>\n",
       "    <tr>\n",
       "      <th>8</th>\n",
       "      <td>2779862</td>\n",
       "      <td>2779862</td>\n",
       "      <td>2779862</td>\n",
       "      <td>2779862</td>\n",
       "      <td>2727045</td>\n",
       "      <td>2181776</td>\n",
       "      <td>2653376</td>\n",
       "      <td>2602727</td>\n",
       "      <td>2639377</td>\n",
       "      <td>2775258</td>\n",
       "      <td>2779862</td>\n",
       "    </tr>\n",
       "    <tr>\n",
       "      <th>6</th>\n",
       "      <td>3093442</td>\n",
       "      <td>3093442</td>\n",
       "      <td>3093442</td>\n",
       "      <td>3093442</td>\n",
       "      <td>2996544</td>\n",
       "      <td>2445292</td>\n",
       "      <td>2967963</td>\n",
       "      <td>2908808</td>\n",
       "      <td>2961225</td>\n",
       "      <td>3089539</td>\n",
       "      <td>3093442</td>\n",
       "    </tr>\n",
       "    <tr>\n",
       "      <th>5</th>\n",
       "      <td>2956598</td>\n",
       "      <td>2956598</td>\n",
       "      <td>2956598</td>\n",
       "      <td>2956598</td>\n",
       "      <td>2908202</td>\n",
       "      <td>2319313</td>\n",
       "      <td>2829246</td>\n",
       "      <td>2784472</td>\n",
       "      <td>2841824</td>\n",
       "      <td>2953211</td>\n",
       "      <td>2956598</td>\n",
       "    </tr>\n",
       "    <tr>\n",
       "      <th>10</th>\n",
       "      <td>2766887</td>\n",
       "      <td>2766887</td>\n",
       "      <td>2766887</td>\n",
       "      <td>2766887</td>\n",
       "      <td>2717144</td>\n",
       "      <td>2223915</td>\n",
       "      <td>2645614</td>\n",
       "      <td>2606518</td>\n",
       "      <td>2668228</td>\n",
       "      <td>2763068</td>\n",
       "      <td>2766887</td>\n",
       "    </tr>\n",
       "  </tbody>\n",
       "</table>\n",
       "</div>"
      ],
      "text/plain": [
       "              Unique Key   Agency  Agency Name  Complaint Type  Descriptor  \\\n",
       "Created Date                                                                 \n",
       "11               2634749  2634749      2634749         2634749     2597039   \n",
       "4                2672760  2672760      2672760         2672760     2632458   \n",
       "1                2994507  2994507      2994507         2994507     2964146   \n",
       "2                2621845  2621845      2621845         2621845     2597904   \n",
       "3                2868044  2868044      2868044         2868044     2838712   \n",
       "9                2684271  2684271      2684271         2684271     2632913   \n",
       "7                3111026  3111026      3111026         3111026     3015435   \n",
       "12               2596986  2596986      2596986         2596986     2566758   \n",
       "8                2779862  2779862      2779862         2779862     2727045   \n",
       "6                3093442  3093442      3093442         3093442     2996544   \n",
       "5                2956598  2956598      2956598         2956598     2908202   \n",
       "10               2766887  2766887      2766887         2766887     2717144   \n",
       "\n",
       "              Location Type  Incident Zip     City  Resolution Description  \\\n",
       "Created Date                                                                 \n",
       "11                  2134663       2518090  2489438                 2551950   \n",
       "4                   2056600       2538816  2508078                 2583141   \n",
       "1                   2394414       2865750  2841227                 2915698   \n",
       "2                   2040378       2478307  2455622                 2547754   \n",
       "3                   2193203       2733449  2705118                 2776299   \n",
       "9                   2132519       2567983  2519843                 2549325   \n",
       "7                   2425720       2984318  2912668                 2972083   \n",
       "12                  2092610       2490107  2464794                 2519183   \n",
       "8                   2181776       2653376  2602727                 2639377   \n",
       "6                   2445292       2967963  2908808                 2961225   \n",
       "5                   2319313       2829246  2784472                 2841824   \n",
       "10                  2223915       2645614  2606518                 2668228   \n",
       "\n",
       "              Borough  Open Data Channel Type  \n",
       "Created Date                                   \n",
       "11            2631500                 2634749  \n",
       "4             2665909                 2672760  \n",
       "1             2993302                 2994507  \n",
       "2             2620396                 2621845  \n",
       "3             2861108                 2868044  \n",
       "9             2680180                 2684271  \n",
       "7             3106441                 3111026  \n",
       "12            2593991                 2596986  \n",
       "8             2775258                 2779862  \n",
       "6             3089539                 3093442  \n",
       "5             2953211                 2956598  \n",
       "10            2763068                 2766887  "
      ]
     },
     "execution_count": 35,
     "metadata": {},
     "output_type": "execute_result"
    }
   ],
   "source": [
    "df_monthly.sample(12)"
   ]
  },
  {
   "cell_type": "code",
   "execution_count": 33,
   "id": "304c728a",
   "metadata": {},
   "outputs": [
    {
     "data": {
      "text/plain": [
       "2596986"
      ]
     },
     "execution_count": 33,
     "metadata": {},
     "output_type": "execute_result"
    }
   ],
   "source": [
    "df_monthly['Unique Key'].min()"
   ]
  },
  {
   "cell_type": "code",
   "execution_count": 36,
   "id": "6c80abe4",
   "metadata": {},
   "outputs": [
    {
     "data": {
      "text/plain": [
       "12"
      ]
     },
     "execution_count": 36,
     "metadata": {},
     "output_type": "execute_result"
    }
   ],
   "source": [
    "df_monthly['Unique Key'].idxmin()"
   ]
  },
  {
   "cell_type": "markdown",
   "id": "60b57edb",
   "metadata": {},
   "source": [
    "5. Resample your time series to a daily frequency.  Perform ETS decomposition based on an additive model.  What is the value of the seasonal component on 2020-12-25 (rounded to the nearest integer)?"
   ]
  },
  {
   "cell_type": "code",
   "execution_count": 38,
   "id": "3a55ec67",
   "metadata": {},
   "outputs": [],
   "source": [
    "import matplotlib.pyplot as plt\n",
    "from statsmodels.tsa.seasonal import seasonal_decompose"
   ]
  },
  {
   "cell_type": "code",
   "execution_count": 45,
   "id": "d57106b0",
   "metadata": {},
   "outputs": [],
   "source": [
    "result = seasonal_decompose(df_daily, model = 'additive') "
   ]
  },
  {
   "cell_type": "code",
   "execution_count": 46,
   "id": "6fa65d38",
   "metadata": {},
   "outputs": [
    {
     "data": {
      "image/png": "[encoded data removed]",
      "text/plain": [
       "<Figure size 2000x900 with 4 Axes>"
      ]
     },
     "metadata": {},
     "output_type": "display_data"
    }
   ],
   "source": [
    "plt.rcParams['figure.figsize'] = (20, 9)\n",
    "result.plot();"
   ]
  },
  {
   "cell_type": "code",
   "execution_count": 47,
   "id": "0fc13373",
   "metadata": {},
   "outputs": [
    {
     "data": {
      "text/plain": [
       "182.69763790386224"
      ]
     },
     "execution_count": 47,
     "metadata": {},
     "output_type": "execute_result"
    }
   ],
   "source": [
    "result.seasonal.loc['2020-12-25']"
   ]
  },
  {
   "cell_type": "markdown",
   "id": "54568054",
   "metadata": {},
   "source": [
    "6. Calculate the autocorrelation of the number of daily calls with the number of calls the day prior, ie lag of 1.  (Use the daily series)."
   ]
  },
  {
   "cell_type": "code",
   "execution_count": 48,
   "id": "3aa5485a",
   "metadata": {},
   "outputs": [],
   "source": [
    "plt.rc(\"figure\", figsize=(18,4))\n",
    "from statsmodels.graphics.tsaplots import plot_acf,plot_pacf"
   ]
  },
  {
   "cell_type": "code",
   "execution_count": 49,
   "id": "559b796f",
   "metadata": {},
   "outputs": [
    {
     "data": {
      "image/png": "[encoded data removed]",
      "text/plain": [
       "<Figure size 1800x400 with 1 Axes>"
      ]
     },
     "metadata": {},
     "output_type": "display_data"
    }
   ],
   "source": [
    "plot_acf(df_daily);"
   ]
  },
  {
   "cell_type": "code",
   "execution_count": 50,
   "id": "d8129668",
   "metadata": {},
   "outputs": [
    {
     "data": {
      "text/plain": [
       "array([1.        , 0.75051424, 0.5385677 , 0.48763193, 0.47912318,\n",
       "       0.50367422, 0.65325166, 0.78735576, 0.64024251, 0.47810689,\n",
       "       0.4412852 , 0.43245455, 0.45933263, 0.61601086, 0.75916101,\n",
       "       0.61690178, 0.46145806, 0.4277244 , 0.42450554, 0.4555627 ,\n",
       "       0.61056881, 0.74821479, 0.60717727, 0.4484158 , 0.41633872,\n",
       "       0.41518982, 0.45040719, 0.59985602, 0.73376054, 0.59641813,\n",
       "       0.44172261, 0.4143002 , 0.41500839, 0.44366085, 0.59565884,\n",
       "       0.73652828, 0.59316864])"
      ]
     },
     "execution_count": 50,
     "metadata": {},
     "output_type": "execute_result"
    }
   ],
   "source": [
    "from statsmodels.tsa.stattools import acf\n",
    "acf(df_daily)"
   ]
  },
  {
   "cell_type": "markdown",
   "id": "d04c19dd",
   "metadata": {},
   "source": [
    "7.Forecast the daily series with a test set of 90 days using the Prophet library.  What is your RMSE on your test set?"
   ]
  },
  {
   "cell_type": "code",
   "execution_count": 54,
   "id": "843c1e20",
   "metadata": {},
   "outputs": [
    {
     "name": "stdout",
     "output_type": "stream",
     "text": [
      "Collecting prophet\n",
      "  Obtaining dependency information for prophet from https://files.pythonhosted.org/packages/c4/ef/c7a0349eec94535d37498a06c033dab2793fdfd7751d461ea3a47f4d23af/prophet-1.1.5-py3-none-macosx_11_0_arm64.whl.metadata\n",
      "  Downloading prophet-1.1.5-py3-none-macosx_11_0_arm64.whl.metadata (3.5 kB)\n",
      "Collecting cmdstanpy>=1.0.4 (from prophet)\n",
      "  Obtaining dependency information for cmdstanpy>=1.0.4 from https://files.pythonhosted.org/packages/e0/e2/2ff5e8e06734c1f6f3933274d1eed1ea9e0904bf7a795869a417f5d3de41/cmdstanpy-1.2.2-py3-none-any.whl.metadata\n",
      "  Downloading cmdstanpy-1.2.2-py3-none-any.whl.metadata (4.1 kB)\n",
      "Requirement already satisfied: numpy>=1.15.4 in /Users/mengjie/anaconda3/lib/python3.11/site-packages (from prophet) (1.24.3)\n",
      "Requirement already satisfied: matplotlib>=2.0.0 in /Users/mengjie/anaconda3/lib/python3.11/site-packages (from prophet) (3.7.2)\n",
      "Requirement already satisfied: pandas>=1.0.4 in /Users/mengjie/anaconda3/lib/python3.11/site-packages (from prophet) (2.0.3)\n",
      "Collecting holidays>=0.25 (from prophet)\n",
      "  Obtaining dependency information for holidays>=0.25 from https://files.pythonhosted.org/packages/4d/c1/9190d856fb2c9ca7e5dabab530289bf66d03c0e379096678c0ee210abf75/holidays-0.47-py3-none-any.whl.metadata\n",
      "  Downloading holidays-0.47-py3-none-any.whl.metadata (23 kB)\n",
      "Requirement already satisfied: tqdm>=4.36.1 in /Users/mengjie/anaconda3/lib/python3.11/site-packages (from prophet) (4.65.0)\n",
      "Collecting importlib-resources (from prophet)\n",
      "  Obtaining dependency information for importlib-resources from https://files.pythonhosted.org/packages/75/06/4df55e1b7b112d183f65db9503bff189e97179b256e1ea450a3c365241e0/importlib_resources-6.4.0-py3-none-any.whl.metadata\n",
      "  Downloading importlib_resources-6.4.0-py3-none-any.whl.metadata (3.9 kB)\n",
      "Collecting stanio<2.0.0,>=0.4.0 (from cmdstanpy>=1.0.4->prophet)\n",
      "  Obtaining dependency information for stanio<2.0.0,>=0.4.0 from https://files.pythonhosted.org/packages/55/35/076a5ff427a47613581f6bd7acebfa8d49046a1b78132216e26fedee0c6b/stanio-0.5.0-py3-none-any.whl.metadata\n",
      "  Downloading stanio-0.5.0-py3-none-any.whl.metadata (1.3 kB)\n",
      "Requirement already satisfied: python-dateutil in /Users/mengjie/anaconda3/lib/python3.11/site-packages (from holidays>=0.25->prophet) (2.8.2)\n",
      "Requirement already satisfied: contourpy>=1.0.1 in /Users/mengjie/anaconda3/lib/python3.11/site-packages (from matplotlib>=2.0.0->prophet) (1.0.5)\n",
      "Requirement already satisfied: cycler>=0.10 in /Users/mengjie/anaconda3/lib/python3.11/site-packages (from matplotlib>=2.0.0->prophet) (0.11.0)\n",
      "Requirement already satisfied: fonttools>=4.22.0 in /Users/mengjie/anaconda3/lib/python3.11/site-packages (from matplotlib>=2.0.0->prophet) (4.25.0)\n",
      "Requirement already satisfied: kiwisolver>=1.0.1 in /Users/mengjie/anaconda3/lib/python3.11/site-packages (from matplotlib>=2.0.0->prophet) (1.4.4)\n",
      "Requirement already satisfied: packaging>=20.0 in /Users/mengjie/anaconda3/lib/python3.11/site-packages (from matplotlib>=2.0.0->prophet) (23.1)\n",
      "Requirement already satisfied: pillow>=6.2.0 in /Users/mengjie/anaconda3/lib/python3.11/site-packages (from matplotlib>=2.0.0->prophet) (10.0.1)\n",
      "Requirement already satisfied: pyparsing<3.1,>=2.3.1 in /Users/mengjie/anaconda3/lib/python3.11/site-packages (from matplotlib>=2.0.0->prophet) (3.0.9)\n",
      "Requirement already satisfied: pytz>=2020.1 in /Users/mengjie/anaconda3/lib/python3.11/site-packages (from pandas>=1.0.4->prophet) (2023.3.post1)\n",
      "Requirement already satisfied: tzdata>=2022.1 in /Users/mengjie/anaconda3/lib/python3.11/site-packages (from pandas>=1.0.4->prophet) (2023.3)\n",
      "Requirement already satisfied: six>=1.5 in /Users/mengjie/anaconda3/lib/python3.11/site-packages (from python-dateutil->holidays>=0.25->prophet) (1.16.0)\n",
      "Downloading prophet-1.1.5-py3-none-macosx_11_0_arm64.whl (8.2 MB)\n",
      "\u001b[2K   \u001b[90m━━━━━━━━━━━━━━━━━━━━━━━━━━━━━━━━━━━━━━━━\u001b[0m \u001b[32m8.2/8.2 MB\u001b[0m \u001b[31m7.6 MB/s\u001b[0m eta \u001b[36m0:00:00\u001b[0m00:01\u001b[0m00:01\u001b[0mm\n",
      "\u001b[?25hDownloading cmdstanpy-1.2.2-py3-none-any.whl (94 kB)\n",
      "\u001b[2K   \u001b[90m━━━━━━━━━━━━━━━━━━━━━━━━━━━━━━━━━━━━━━━━\u001b[0m \u001b[32m94.4/94.4 kB\u001b[0m \u001b[31m4.3 MB/s\u001b[0m eta \u001b[36m0:00:00\u001b[0m\n",
      "\u001b[?25hDownloading holidays-0.47-py3-none-any.whl (1.0 MB)\n",
      "\u001b[2K   \u001b[90m━━━━━━━━━━━━━━━━━━━━━━━━━━━━━━━━━━━━━━━━\u001b[0m \u001b[32m1.0/1.0 MB\u001b[0m \u001b[31m8.1 MB/s\u001b[0m eta \u001b[36m0:00:00\u001b[0ma \u001b[36m0:00:01\u001b[0mm\n",
      "\u001b[?25hDownloading importlib_resources-6.4.0-py3-none-any.whl (38 kB)\n",
      "Downloading stanio-0.5.0-py3-none-any.whl (8.0 kB)\n",
      "Installing collected packages: stanio, importlib-resources, holidays, cmdstanpy, prophet\n",
      "Successfully installed cmdstanpy-1.2.2 holidays-0.47 importlib-resources-6.4.0 prophet-1.1.5 stanio-0.5.0\n",
      "Note: you may need to restart the kernel to use updated packages.\n"
     ]
    }
   ],
   "source": [
    "pip install prophet"
   ]
  },
  {
   "cell_type": "code",
   "execution_count": 55,
   "id": "8c057caa",
   "metadata": {},
   "outputs": [],
   "source": [
    "from prophet import Prophet"
   ]
  },
  {
   "cell_type": "code",
   "execution_count": 56,
   "id": "8a81a8b9",
   "metadata": {},
   "outputs": [
    {
     "data": {
      "text/plain": [
       "Created Date\n",
       "2018-07-30     8942\n",
       "2012-05-24     5287\n",
       "2018-08-07     8642\n",
       "2020-06-20    15825\n",
       "2020-09-07    10210\n",
       "Name: Unique Key, dtype: int64"
      ]
     },
     "execution_count": 56,
     "metadata": {},
     "output_type": "execute_result"
    }
   ],
   "source": [
    "df_daily.sample(5)"
   ]
  },
  {
   "cell_type": "code",
   "execution_count": 62,
   "id": "fb827ae4",
   "metadata": {},
   "outputs": [],
   "source": [
    "# Reset the index to turn the date index into a column\n",
    "df = df_daily.reset_index()\n",
    "df.columns = ['ds', 'y']  # Rename columns for Prophet"
   ]
  },
  {
   "cell_type": "code",
   "execution_count": 63,
   "id": "581a32c9",
   "metadata": {},
   "outputs": [
    {
     "data": {
      "text/html": [
       "<div>\n",
       "<style scoped>\n",
       "    .dataframe tbody tr th:only-of-type {\n",
       "        vertical-align: middle;\n",
       "    }\n",
       "\n",
       "    .dataframe tbody tr th {\n",
       "        vertical-align: top;\n",
       "    }\n",
       "\n",
       "    .dataframe thead th {\n",
       "        text-align: right;\n",
       "    }\n",
       "</style>\n",
       "<table border=\"1\" class=\"dataframe\">\n",
       "  <thead>\n",
       "    <tr style=\"text-align: right;\">\n",
       "      <th></th>\n",
       "      <th>ds</th>\n",
       "      <th>y</th>\n",
       "    </tr>\n",
       "  </thead>\n",
       "  <tbody>\n",
       "    <tr>\n",
       "      <th>1168</th>\n",
       "      <td>2013-03-14</td>\n",
       "      <td>6229</td>\n",
       "    </tr>\n",
       "    <tr>\n",
       "      <th>2119</th>\n",
       "      <td>2015-10-21</td>\n",
       "      <td>6877</td>\n",
       "    </tr>\n",
       "    <tr>\n",
       "      <th>1345</th>\n",
       "      <td>2013-09-07</td>\n",
       "      <td>3761</td>\n",
       "    </tr>\n",
       "    <tr>\n",
       "      <th>1033</th>\n",
       "      <td>2012-10-30</td>\n",
       "      <td>6144</td>\n",
       "    </tr>\n",
       "    <tr>\n",
       "      <th>2072</th>\n",
       "      <td>2015-09-04</td>\n",
       "      <td>6236</td>\n",
       "    </tr>\n",
       "  </tbody>\n",
       "</table>\n",
       "</div>"
      ],
      "text/plain": [
       "             ds     y\n",
       "1168 2013-03-14  6229\n",
       "2119 2015-10-21  6877\n",
       "1345 2013-09-07  3761\n",
       "1033 2012-10-30  6144\n",
       "2072 2015-09-04  6236"
      ]
     },
     "execution_count": 63,
     "metadata": {},
     "output_type": "execute_result"
    }
   ],
   "source": [
    "df.sample(5)"
   ]
  },
  {
   "cell_type": "code",
   "execution_count": 64,
   "id": "841ac485",
   "metadata": {},
   "outputs": [],
   "source": [
    "# Calculate the cutoff point for the last 90 days\n",
    "cutoff = df['ds'].max() - pd.Timedelta(days=90)\n",
    "\n",
    "# Split the data\n",
    "train = df[df['ds'] <= cutoff]\n",
    "test = df[df['ds'] > cutoff]"
   ]
  },
  {
   "cell_type": "code",
   "execution_count": 79,
   "id": "197ba332",
   "metadata": {},
   "outputs": [
    {
     "data": {
      "text/html": [
       "<div>\n",
       "<style scoped>\n",
       "    .dataframe tbody tr th:only-of-type {\n",
       "        vertical-align: middle;\n",
       "    }\n",
       "\n",
       "    .dataframe tbody tr th {\n",
       "        vertical-align: top;\n",
       "    }\n",
       "\n",
       "    .dataframe thead th {\n",
       "        text-align: right;\n",
       "    }\n",
       "</style>\n",
       "<table border=\"1\" class=\"dataframe\">\n",
       "  <thead>\n",
       "    <tr style=\"text-align: right;\">\n",
       "      <th></th>\n",
       "      <th>ds</th>\n",
       "      <th>y</th>\n",
       "    </tr>\n",
       "  </thead>\n",
       "  <tbody>\n",
       "    <tr>\n",
       "      <th>0</th>\n",
       "      <td>2010-01-01</td>\n",
       "      <td>2942</td>\n",
       "    </tr>\n",
       "    <tr>\n",
       "      <th>1</th>\n",
       "      <td>2010-01-02</td>\n",
       "      <td>3958</td>\n",
       "    </tr>\n",
       "    <tr>\n",
       "      <th>2</th>\n",
       "      <td>2010-01-03</td>\n",
       "      <td>5676</td>\n",
       "    </tr>\n",
       "    <tr>\n",
       "      <th>3</th>\n",
       "      <td>2010-01-04</td>\n",
       "      <td>9763</td>\n",
       "    </tr>\n",
       "    <tr>\n",
       "      <th>4</th>\n",
       "      <td>2010-01-05</td>\n",
       "      <td>8735</td>\n",
       "    </tr>\n",
       "  </tbody>\n",
       "</table>\n",
       "</div>"
      ],
      "text/plain": [
       "          ds     y\n",
       "0 2010-01-01  2942\n",
       "1 2010-01-02  3958\n",
       "2 2010-01-03  5676\n",
       "3 2010-01-04  9763\n",
       "4 2010-01-05  8735"
      ]
     },
     "execution_count": 79,
     "metadata": {},
     "output_type": "execute_result"
    }
   ],
   "source": [
    "train.head(5)"
   ]
  },
  {
   "cell_type": "code",
   "execution_count": 65,
   "id": "cd71afe0",
   "metadata": {},
   "outputs": [
    {
     "name": "stderr",
     "output_type": "stream",
     "text": [
      "20:49:41 - cmdstanpy - INFO - Chain [1] start processing\n",
      "20:49:43 - cmdstanpy - INFO - Chain [1] done processing\n"
     ]
    },
    {
     "data": {
      "text/plain": [
       "<prophet.forecaster.Prophet at 0x10492f850>"
      ]
     },
     "execution_count": 65,
     "metadata": {},
     "output_type": "execute_result"
    }
   ],
   "source": [
    "model = Prophet()\n",
    "model.fit(train)"
   ]
  },
  {
   "cell_type": "code",
   "execution_count": 81,
   "id": "bbcffef0",
   "metadata": {},
   "outputs": [],
   "source": [
    "future = model.make_future_dataframe(periods=90)"
   ]
  },
  {
   "cell_type": "code",
   "execution_count": 82,
   "id": "df5b13d2",
   "metadata": {},
   "outputs": [],
   "source": [
    "forecast = model.predict(future)"
   ]
  },
  {
   "cell_type": "code",
   "execution_count": 84,
   "id": "f3527b3a",
   "metadata": {},
   "outputs": [
    {
     "data": {
      "text/html": [
       "<div>\n",
       "<style scoped>\n",
       "    .dataframe tbody tr th:only-of-type {\n",
       "        vertical-align: middle;\n",
       "    }\n",
       "\n",
       "    .dataframe tbody tr th {\n",
       "        vertical-align: top;\n",
       "    }\n",
       "\n",
       "    .dataframe thead th {\n",
       "        text-align: right;\n",
       "    }\n",
       "</style>\n",
       "<table border=\"1\" class=\"dataframe\">\n",
       "  <thead>\n",
       "    <tr style=\"text-align: right;\">\n",
       "      <th></th>\n",
       "      <th>yhat</th>\n",
       "    </tr>\n",
       "    <tr>\n",
       "      <th>ds</th>\n",
       "      <th></th>\n",
       "    </tr>\n",
       "  </thead>\n",
       "  <tbody>\n",
       "    <tr>\n",
       "      <th>2010-01-01</th>\n",
       "      <td>5598.478624</td>\n",
       "    </tr>\n",
       "    <tr>\n",
       "      <th>2010-01-02</th>\n",
       "      <td>4355.638838</td>\n",
       "    </tr>\n",
       "    <tr>\n",
       "      <th>2010-01-03</th>\n",
       "      <td>4167.451626</td>\n",
       "    </tr>\n",
       "    <tr>\n",
       "      <th>2010-01-04</th>\n",
       "      <td>6198.304555</td>\n",
       "    </tr>\n",
       "    <tr>\n",
       "      <th>2010-01-05</th>\n",
       "      <td>6310.839636</td>\n",
       "    </tr>\n",
       "    <tr>\n",
       "      <th>...</th>\n",
       "      <td>...</td>\n",
       "    </tr>\n",
       "    <tr>\n",
       "      <th>2023-07-31</th>\n",
       "      <td>9591.200716</td>\n",
       "    </tr>\n",
       "    <tr>\n",
       "      <th>2023-08-01</th>\n",
       "      <td>9639.223183</td>\n",
       "    </tr>\n",
       "    <tr>\n",
       "      <th>2023-08-02</th>\n",
       "      <td>9465.697778</td>\n",
       "    </tr>\n",
       "    <tr>\n",
       "      <th>2023-08-03</th>\n",
       "      <td>9302.575550</td>\n",
       "    </tr>\n",
       "    <tr>\n",
       "      <th>2023-08-04</th>\n",
       "      <td>9084.946924</td>\n",
       "    </tr>\n",
       "  </tbody>\n",
       "</table>\n",
       "<p>4964 rows × 1 columns</p>\n",
       "</div>"
      ],
      "text/plain": [
       "                   yhat\n",
       "ds                     \n",
       "2010-01-01  5598.478624\n",
       "2010-01-02  4355.638838\n",
       "2010-01-03  4167.451626\n",
       "2010-01-04  6198.304555\n",
       "2010-01-05  6310.839636\n",
       "...                 ...\n",
       "2023-07-31  9591.200716\n",
       "2023-08-01  9639.223183\n",
       "2023-08-02  9465.697778\n",
       "2023-08-03  9302.575550\n",
       "2023-08-04  9084.946924\n",
       "\n",
       "[4964 rows x 1 columns]"
      ]
     },
     "execution_count": 84,
     "metadata": {},
     "output_type": "execute_result"
    }
   ],
   "source": [
    "forecast"
   ]
  },
  {
   "cell_type": "code",
   "execution_count": 85,
   "id": "4a9df4ec",
   "metadata": {},
   "outputs": [],
   "source": [
    "y_predicted = forecast[-90:]"
   ]
  },
  {
   "cell_type": "code",
   "execution_count": 86,
   "id": "7257d31a",
   "metadata": {},
   "outputs": [
    {
     "data": {
      "text/html": [
       "<div>\n",
       "<style scoped>\n",
       "    .dataframe tbody tr th:only-of-type {\n",
       "        vertical-align: middle;\n",
       "    }\n",
       "\n",
       "    .dataframe tbody tr th {\n",
       "        vertical-align: top;\n",
       "    }\n",
       "\n",
       "    .dataframe thead th {\n",
       "        text-align: right;\n",
       "    }\n",
       "</style>\n",
       "<table border=\"1\" class=\"dataframe\">\n",
       "  <thead>\n",
       "    <tr style=\"text-align: right;\">\n",
       "      <th></th>\n",
       "      <th>yhat</th>\n",
       "    </tr>\n",
       "    <tr>\n",
       "      <th>ds</th>\n",
       "      <th></th>\n",
       "    </tr>\n",
       "  </thead>\n",
       "  <tbody>\n",
       "    <tr>\n",
       "      <th>2023-05-07</th>\n",
       "      <td>7244.545680</td>\n",
       "    </tr>\n",
       "    <tr>\n",
       "      <th>2023-05-08</th>\n",
       "      <td>9231.639554</td>\n",
       "    </tr>\n",
       "    <tr>\n",
       "      <th>2023-05-09</th>\n",
       "      <td>9293.300955</td>\n",
       "    </tr>\n",
       "    <tr>\n",
       "      <th>2023-05-10</th>\n",
       "      <td>9133.420612</td>\n",
       "    </tr>\n",
       "    <tr>\n",
       "      <th>2023-05-11</th>\n",
       "      <td>8984.171013</td>\n",
       "    </tr>\n",
       "    <tr>\n",
       "      <th>...</th>\n",
       "      <td>...</td>\n",
       "    </tr>\n",
       "    <tr>\n",
       "      <th>2023-07-31</th>\n",
       "      <td>9591.200716</td>\n",
       "    </tr>\n",
       "    <tr>\n",
       "      <th>2023-08-01</th>\n",
       "      <td>9639.223183</td>\n",
       "    </tr>\n",
       "    <tr>\n",
       "      <th>2023-08-02</th>\n",
       "      <td>9465.697778</td>\n",
       "    </tr>\n",
       "    <tr>\n",
       "      <th>2023-08-03</th>\n",
       "      <td>9302.575550</td>\n",
       "    </tr>\n",
       "    <tr>\n",
       "      <th>2023-08-04</th>\n",
       "      <td>9084.946924</td>\n",
       "    </tr>\n",
       "  </tbody>\n",
       "</table>\n",
       "<p>90 rows × 1 columns</p>\n",
       "</div>"
      ],
      "text/plain": [
       "                   yhat\n",
       "ds                     \n",
       "2023-05-07  7244.545680\n",
       "2023-05-08  9231.639554\n",
       "2023-05-09  9293.300955\n",
       "2023-05-10  9133.420612\n",
       "2023-05-11  8984.171013\n",
       "...                 ...\n",
       "2023-07-31  9591.200716\n",
       "2023-08-01  9639.223183\n",
       "2023-08-02  9465.697778\n",
       "2023-08-03  9302.575550\n",
       "2023-08-04  9084.946924\n",
       "\n",
       "[90 rows x 1 columns]"
      ]
     },
     "execution_count": 86,
     "metadata": {},
     "output_type": "execute_result"
    }
   ],
   "source": [
    "y_predicted"
   ]
  },
  {
   "cell_type": "code",
   "execution_count": 75,
   "id": "a4d0a0d9",
   "metadata": {},
   "outputs": [],
   "source": [
    "from sklearn.metrics import mean_absolute_error, mean_squared_error"
   ]
  },
  {
   "cell_type": "code",
   "execution_count": 87,
   "id": "cbd9d59a",
   "metadata": {},
   "outputs": [
    {
     "data": {
      "text/plain": [
       "1231.3215094072907"
      ]
     },
     "execution_count": 87,
     "metadata": {},
     "output_type": "execute_result"
    }
   ],
   "source": [
    "np.sqrt(mean_squared_error(test['y'],y_predicted))"
   ]
  },
  {
   "cell_type": "code",
   "execution_count": null,
   "id": "40c7f1ea",
   "metadata": {},
   "outputs": [],
   "source": []
  }
 ],
 "metadata": {
  "kernelspec": {
   "display_name": "Python 3 (ipykernel)",
   "language": "python",
   "name": "python3"
  },
  "language_info": {
   "codemirror_mode": {
    "name": "ipython",
    "version": 3
   },
   "file_extension": ".py",
   "mimetype": "text/x-python",
   "name": "python",
   "nbconvert_exporter": "python",
   "pygments_lexer": "ipython3",
   "version": "3.11.5"
  }
 },
 "nbformat": 4,
 "nbformat_minor": 5
}
